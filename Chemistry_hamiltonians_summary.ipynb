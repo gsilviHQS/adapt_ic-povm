{
 "cells": [
  {
   "cell_type": "code",
   "execution_count": 1,
   "metadata": {},
   "outputs": [],
   "source": [
    "import pandas as pd\n",
    "df = pd.DataFrame(pd.read_pickle('hamiltonians.pickle'))"
   ]
  },
  {
   "cell_type": "code",
   "execution_count": 14,
   "metadata": {},
   "outputs": [
    {
     "data": {
      "text/plain": [
       "{'molecule': 'H2',\n",
       " 'basis': 'sto3g',\n",
       " 'two_qubit_reduction': False,\n",
       " 'z2symmetry_reduction': False,\n",
       " 'freeze_core': False,\n",
       " 'mapping': 'parity',\n",
       " 'operator': <qiskit.aqua.operators.legacy.weighted_pauli_operator.WeightedPauliOperator at 0x2b3a9078b9a0>,\n",
       " 'qubits': 4,\n",
       " 'num_paulis': 15,\n",
       " 'vqe_circuit': <qiskit.circuit.library.n_local.real_amplitudes.RealAmplitudes at 0x2b3a8febd970>,\n",
       " 'vqe_value': -1.842665192696192,\n",
       " 'exact_circuit': <qiskit.circuit.quantumcircuit.QuantumCircuit at 0x2b3a8f0747f0>,\n",
       " 'exact_value': -1.842686681905733,\n",
       " 'name': '4q H2 parity'}"
      ]
     },
     "execution_count": 14,
     "metadata": {},
     "output_type": "execute_result"
    }
   ],
   "source": [
    "pd.read_pickle('hamiltonians.pickle')[0]"
   ]
  },
  {
   "cell_type": "code",
   "execution_count": 13,
   "metadata": {},
   "outputs": [
    {
     "name": "stdout",
     "output_type": "stream",
     "text": [
      "|    | molecule   | basis   | two_qubit_reduction   | z2symmetry_reduction   | freeze_core   | mapping       |   qubits |   num_paulis |   vqe_value |   exact_value |\n",
      "|---:|:-----------|:--------|:----------------------|:-----------------------|:--------------|:--------------|---------:|-------------:|------------:|--------------:|\n",
      "|  0 | H2         | sto3g   | False                 | False                  | False         | parity        |        4 |           15 |   -1.84267  |      -1.84269 |\n",
      "|  1 | H2         | sto3g   | False                 | False                  | False         | jordan_wigner |        4 |           15 |   -1.84269  |      -1.84269 |\n",
      "|  2 | H2         | 631g    | True                  | False                  | False         | parity        |        6 |          159 |   -1.8516   |      -1.85726 |\n",
      "|  3 | H2         | 631g    | False                 | False                  | False         | jordan_wigner |        8 |          185 |   -1.83211  |      -1.85726 |\n",
      "|  4 | H2         | 631g    | False                 | False                  | False         | parity        |        8 |          185 |   -1.60457  |      -1.85726 |\n",
      "|  5 | H2         | sto3g   | False                 | False                  | False         | bravyi_kitaev |        4 |           15 |   -1.84269  |      -1.84269 |\n",
      "|  6 | H2         | 631g    | False                 | False                  | False         | bravyi_kitaev |        8 |          185 |   -1.60296  |      -1.85726 |\n",
      "|  7 | LiH        | sto3g   | True                  | True                   | False         | parity        |        8 |          558 |   -8.87328  |      -8.87453 |\n",
      "|  8 | LiH        | sto3g   | True                  | True                   | True          | parity        |        6 |          231 |   -0.950255 |      -1.07808 |\n",
      "|  9 | LiH        | sto3g   | True                  | False                  | False         | parity        |       10 |          631 |   -8.8541   |      -8.87453 |\n",
      "| 10 | LiH        | sto3g   | False                 | True                   | True          | bravyi_kitaev |        6 |          231 |   -1.05868  |      -1.07808 |\n",
      "| 11 | LiH        | sto3g   | False                 | True                   | False         | bravyi_kitaev |        8 |          558 |   -8.85407  |      -8.87453 |\n",
      "| 12 | H2O        | sto3g   | False                 | True                   | True          | parity        |        8 |          514 |  -22.4216   |     -23.5445  |\n",
      "| 13 | H2O        | sto3g   | False                 | True                   | False         | parity        |       10 |         1035 |  -83.2595   |     -84.2064  |\n",
      "| 14 | H2O        | sto3g   | False                 | True                   | False         | bravyi_kitaev |       10 |         1035 |  -82.7967   |     -84.2064  |\n",
      "| 15 | H2O        | sto3g   | False                 | True                   | True          | bravyi_kitaev |        8 |          514 |  -23.5008   |     -23.5445  |\n",
      "| 16 | H2O        | sto3g   | False                 | False                  | True          | jordan_wigner |       12 |          551 |  -23.4952   |     -23.5445  |\n",
      "| 17 | LiH        | sto3g   | False                 | False                  | False         | parity        |       12 |          631 |   -8.8041   |      -8.87453 |\n",
      "| 18 | H2         | sto3g   | False                 | False                  | False         | neven         |        4 |           15 |   -1.82173  |      -1.84269 |\n",
      "| 19 | H2         | 631g    | False                 | False                  | False         | neven         |        8 |          185 |   -1.83818  |      -1.85726 |\n",
      "| 20 | LiH        | sto3g   | False                 | False                  | False         | bravyi_kitaev |       12 |          631 |   -8.77588  |      -8.87453 |\n",
      "| 21 | H2O        | sto3g   | False                 | False                  | True          | parity        |       12 |          551 |  -23.1052   |     -23.5445  |\n",
      "| 22 | H2O        | sto3g   | False                 | False                  | True          | bravyi_kitaev |       12 |          551 |  -23.0872   |     -23.5445  |\n",
      "| 23 | LiH        | sto3g   | False                 | False                  | False         | jordan_wigner |       12 |          631 |   -8.85405  |      -8.87453 |\n",
      "| 24 | LiH        | sto3g   | False                 | False                  | False         | neven         |       12 |          631 |   -8.85407  |      -8.87453 |\n",
      "| 25 | H2O        | sto3g   | False                 | False                  | True          | neven         |       12 |          551 |  -23.4985   |     -23.5445  |\n",
      "| 26 | H2O        | sto3g   | False                 | False                  | False         | parity        |       14 |         1086 |  -84.1569   |     -84.2064  |\n",
      "| 27 | H2O        | sto3g   | False                 | False                  | False         | bravyi_kitaev |       14 |         1086 |  -83.889    |     -84.2064  |\n",
      "| 28 | H2O        | sto3g   | False                 | False                  | False         | jordan_wigner |       14 |         1086 |  -83.8552   |     -84.2064  |\n",
      "| 29 | H2O        | sto3g   | False                 | False                  | False         | neven         |       14 |         1086 |  -83.5525   |     -84.2064  |\n"
     ]
    }
   ],
   "source": [
    "print(df.drop(columns=['vqe_circuit', 'exact_circuit', 'operator', 'name']).to_markdown())"
   ]
  },
  {
   "cell_type": "code",
   "execution_count": null,
   "metadata": {},
   "outputs": [],
   "source": []
  }
 ],
 "metadata": {
  "interpreter": {
   "hash": "b964881119d31a2608ca417a92d7c349f5f50cff7eb8d868eec199382b86fa47"
  },
  "kernelspec": {
   "display_name": "Python 3.8.5 64-bit ('env': venv)",
   "name": "python3"
  },
  "language_info": {
   "codemirror_mode": {
    "name": "ipython",
    "version": 3
   },
   "file_extension": ".py",
   "mimetype": "text/x-python",
   "name": "python",
   "nbconvert_exporter": "python",
   "pygments_lexer": "ipython3",
   "version": "3.8.5"
  },
  "orig_nbformat": 4
 },
 "nbformat": 4,
 "nbformat_minor": 2
}