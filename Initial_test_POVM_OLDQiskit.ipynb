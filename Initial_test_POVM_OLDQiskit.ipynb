{
 "cells": [
  {
   "cell_type": "code",
   "execution_count": 1,
   "metadata": {},
   "outputs": [
    {
     "name": "stdout",
     "output_type": "stream",
     "text": [
      "0.16.4\n"
     ]
    }
   ],
   "source": [
    "import os\n",
    "os.environ[\"TMPDIR\"] = \"/tmp\"  # set the folder for temporary files\n",
    "\n",
    "import numpy as np\n",
    "import qiskit\n",
    "print(qiskit.__version__)\n",
    "# from qiskit.opflow import StateFn, PauliExpectation, Zero, One,Z,X,I,Y,PauliOp,ListOp, AerPauliExpectation,DictStateFn,MatrixOp,PrimitiveOp, MatrixExpectation,ComposedOp\n",
    "from qiskit.circuit.library import TwoLocal,EfficientSU2,UGate\n",
    "# from qiskit.opflow.state_fns import CircuitStateFn\n",
    "# from qiskit.opflow.converters import CircuitSampler\n",
    "from qiskit import Aer\n",
    "# from qiskit.utils.quantum_instance import QuantumInstance\n",
    "from qiskit.test.mock import FakeMontreal\n",
    "from qiskit.providers.aer.noise import NoiseModel\n",
    "\n",
    "\n",
    "from qiskit.chemistry.fermionic_operator import FermionicOperator\n",
    "# from qiskit.providers.aer.library import SaveExpectationValueVariance\n",
    "\n",
    "# from qiskit.algorithms.optimizers import COBYLA\n",
    "# from qiskit.algorithms import VQE\n",
    "# from qiskit_nature.converters.second_quantization import QubitConverter\n",
    "# from qiskit_nature.mappers.second_quantization import JordanWignerMapper\n",
    "from qiskit.quantum_info.operators import Operator\n",
    "from qiskit.circuit import Parameter\n",
    "# from qiskit.providers.aer import AerSimulator,QasmSimulator\n",
    "from qiskit.aqua.operators.legacy import WeightedPauliOperator\n",
    "from qiskit.quantum_info import Pauli\n",
    "\n",
    "from random import random,seed\n",
    "from math import pi\n",
    "import matplotlib.pyplot as plt\n",
    "plt.rcParams.update({'font.size': 18})\n",
    "\n",
    "from scipy.optimize import curve_fit\n",
    "import pickle\n",
    "# #my functions\n",
    "# import ESfunctions\n",
    "# import EnhancedSampling\n",
    "\n",
    "\n",
    "def is_unitary(m):\n",
    "    return np.allclose(np.eye(m.shape[0]), m.H * m)"
   ]
  },
  {
   "cell_type": "code",
   "execution_count": null,
   "metadata": {},
   "outputs": [],
   "source": []
  },
  {
   "cell_type": "code",
   "execution_count": 22,
   "metadata": {},
   "outputs": [
    {
     "name": "stdout",
     "output_type": "stream",
     "text": [
      "Operator to be measured Representation: paulis, qubits: 1, size: 3\n"
     ]
    }
   ],
   "source": [
    "\n",
    "#Backend and Quantum instance\n",
    "backend=Aer.get_backend('statevector_simulator')\n",
    "\n",
    "#Hamiltonian\n",
    "\n",
    "PauliH = WeightedPauliOperator([[1., Pauli(label ='Z')],[1., Pauli(label ='Y')],[1., Pauli(label ='X')]])\n",
    "#PauliH = WeightedPauliOperator([[1., Pauli(label ='Z')]])\n",
    "\n",
    "print('Operator to be measured',PauliH)"
   ]
  },
  {
   "cell_type": "code",
   "execution_count": 23,
   "metadata": {},
   "outputs": [
    {
     "name": "stdout",
     "output_type": "stream",
     "text": [
      "1\n",
      " Random angles assigned to ansatz {Parameter(θ[0]): 2.9091610277393842, Parameter(θ[1]): 2.345588042336162, Parameter(θ[2]): 0.8704688011761168, Parameter(θ[3]): 5.444768683596541}\n"
     ]
    },
    {
     "data": {
      "image/png": "[encoded data removed]",
      "text/plain": [
       "<Figure size 675.326x84.28 with 1 Axes>"
      ]
     },
     "execution_count": 23,
     "metadata": {},
     "output_type": "execute_result"
    }
   ],
   "source": [
    "seed(9) #44 ok #494 wtf?\n",
    "# Ansatz creation\n",
    "# Define global variables\n",
    "num_qubit = PauliH.num_qubits\n",
    "print(num_qubit)\n",
    "ansz = EfficientSU2(num_qubit,['ry','rz'],reps=1)\n",
    "angles_set = {}\n",
    "param = ansz.ordered_parameters\n",
    "for j in range(len(param)):\n",
    "    angles_set[param[j]]= random()*2*pi\n",
    "ansz_assigned = ansz.bind_parameters(angles_set)\n",
    "\n",
    "print(' Random angles assigned to ansatz',angles_set)\n",
    "ansz_assigned.decompose().draw(output='mpl',filename='EfficientSU2')\n"
   ]
  },
  {
   "cell_type": "code",
   "execution_count": 24,
   "metadata": {},
   "outputs": [],
   "source": [
    "# from qiskit import execute\n",
    "# result = execute(\n",
    "#     self.circs,\n",
    "#     backend=Aer.get_backend(\"qasm_simulator\"),\n",
    "#     shots=num_shots,\n",
    "# ).result()\n",
    "\n",
    "# \n",
    "# print( 'Exact',exact_energy)\n",
    "\n",
    "# exact_energy= 0\n"
   ]
  },
  {
   "cell_type": "code",
   "execution_count": 25,
   "metadata": {},
   "outputs": [
    {
     "name": "stdout",
     "output_type": "stream",
     "text": [
      "{'molecule': 'H2', 'basis': '631g', 'two_qubit_reduction': False, 'z2symmetry_reduction': False, 'freeze_core': False, 'mapping': 'jordan_wigner', 'operator': <qiskit.aqua.operators.legacy.weighted_pauli_operator.WeightedPauliOperator object at 0x7f7b833b3f40>, 'qubits': 8, 'num_paulis': 185, 'vqe_circuit': <qiskit.circuit.library.n_local.real_amplitudes.RealAmplitudes object at 0x7f7b832cbfd0>, 'vqe_value': -1.8321133743330758, 'exact_circuit': <qiskit.circuit.quantumcircuit.QuantumCircuit object at 0x7f7b83bb85e0>, 'exact_value': -1.857258162076612, 'name': '8q H2 jordan_wigner'}\n"
     ]
    }
   ],
   "source": [
    "data_complete = pickle.load(open('data/hamiltonians.pickle', \"rb\"))\n",
    "print(data_complete[3])\n"
   ]
  },
  {
   "cell_type": "code",
   "execution_count": 26,
   "metadata": {},
   "outputs": [
    {
     "name": "stdout",
     "output_type": "stream",
     "text": [
      "exact value -1.8321133743330758\n",
      "Qubit Op: Representation: paulis, qubits: 1, size: 3\n",
      "Circuit:      ┌──────────────────────┐┌──────────────────────┐┌───────────────────────┐»\n",
      "q_0: ┤ RY(2.90916102773938) ├┤ RZ(2.34558804233616) ├┤ RY(0.870468801176117) ├»\n",
      "     └──────────────────────┘└──────────────────────┘└───────────────────────┘»\n",
      "«     ┌──────────────────────┐\n",
      "«q_0: ┤ RZ(5.44476868359654) ├\n",
      "«     └──────────────────────┘\n"
     ]
    }
   ],
   "source": [
    "data = pickle.load(open('data/hamiltonians.pickle', \"rb\"))\n",
    "\n",
    "h = data[3]\n",
    "\n",
    "# qubitOp = h[\"operator\"]\n",
    "\n",
    "use_exact= False\n",
    "\n",
    "if use_exact:\n",
    "    qc = h[\"exact_circuit\"]\n",
    "    exact = h[\"exact_value\"]\n",
    "else:\n",
    "    qc = h[\"vqe_circuit\"]\n",
    "    exact = h[\"vqe_value\"]\n",
    "\n",
    "\n",
    "\n",
    "# print('Circuit',qc)\n",
    "\n",
    "\n",
    "if True:\n",
    "    qc = ansz_assigned\n",
    "    qubitOp = PauliH\n",
    "\n",
    "print('exact value', exact)\n",
    "print('Qubit Op:', qubitOp)\n",
    "print('Circuit:', qc)"
   ]
  },
  {
   "cell_type": "code",
   "execution_count": 27,
   "metadata": {},
   "outputs": [
    {
     "data": {
      "text/plain": [
       "SummedOp([PauliOp(Pauli(z=[True], x=[False]), coeff=1.0), PauliOp(Pauli(z=[True], x=[True]), coeff=1.0), PauliOp(Pauli(z=[False], x=[True]), coeff=1.0)], coeff=1.0, abelian=False)"
      ]
     },
     "execution_count": 27,
     "metadata": {},
     "output_type": "execute_result"
    }
   ],
   "source": [
    "qubitOp.to_opflow()"
   ]
  },
  {
   "cell_type": "code",
   "execution_count": 28,
   "metadata": {},
   "outputs": [],
   "source": [
    "# # ###save data without 'operator'\n",
    "# data_no_operator = data.copy()\n",
    "# for elem in data_no_operator:\n",
    "#     elem.pop('operator')\n",
    "#     elem.pop('exact_circuit')\n",
    "#     elem.pop('vqe_circuit')\n",
    "# print(data)\n",
    "# # save data_no_operator to pickle\n",
    "# pickle.dump(data_no_operator, open(\"data/hamiltonians_no_operator.pickle\", \"wb\"))\n"
   ]
  },
  {
   "cell_type": "code",
   "execution_count": 29,
   "metadata": {},
   "outputs": [
    {
     "name": "stdout",
     "output_type": "stream",
     "text": [
      "paulis_dict: {'paulis': [{'label': 'Z', 'coeff': {'real': 1.0, 'imag': 0.0}}, {'label': 'Y', 'coeff': {'real': 1.0, 'imag': 0.0}}, {'label': 'X', 'coeff': {'real': 1.0, 'imag': 0.0}}]}\n",
      "self._k: ['Z', 'Y', 'X']\n",
      "self._c_k: [1.+0.j 1.+0.j 1.+0.j]\n",
      "paulis_dict: {'paulis': [{'label': 'Z', 'coeff': {'real': 1.0, 'imag': 0.0}}, {'label': 'Y', 'coeff': {'real': 1.0, 'imag': 0.0}}, {'label': 'X', 'coeff': {'real': 1.0, 'imag': 0.0}}]}\n",
      "self._k: ['Z', 'Y', 'X']\n",
      "self._c_k: [1.+0.j 1.+0.j 1.+0.j]\n"
     ]
    }
   ],
   "source": [
    "import logging\n",
    "from povm.estimator import POVMEstimator,GradPOVMEstimator,GooglePOVMEstimator,PauliEstimator, GroupedPauliEstimator, GoogleGradPOVMEstimator\n",
    "\n",
    "# logging.basicConfig(level=logging.DEBUG)\n",
    "\n",
    "povm_optimal_params =[]\n",
    "\n",
    " \n",
    "\n",
    "povm_test_params = np.array([0.25, 0.30408672, 0, 0.5, 0.5, 0.25, 0.5, 1])\n",
    "\n",
    "_SIC_PARAMS = np.array([0.25, 0.30408672, 0.125, 0.5, 0.5, 0.25, 0.5, 0.75])\n",
    "\n",
    "\n",
    "estimator = POVMEstimator(qc, qubitOp, exact, return_counts=False)#, povm_params=povm_test_params ) #povm_optimal_params\n",
    "p_estimator = PauliEstimator(qc, qubitOp, exact, return_counts=False)\n",
    "gp_estimator = GroupedPauliEstimator(qc, qubitOp, exact, return_counts=False)\n",
    "\n",
    "#estimator = GoogleGradPOVMEstimator(qc, qubitOp, exact, return_counts=False)\n",
    "grad_estimator = GradPOVMEstimator(qc, qubitOp, exact, return_counts=False)#, povm_params=povm_optimal_params)"
   ]
  },
  {
   "cell_type": "code",
   "execution_count": 40,
   "metadata": {},
   "outputs": [
    {
     "name": "stdout",
     "output_type": "stream",
     "text": [
      "shots: 10000\n",
      "\n",
      " Unoptimized POVM measurement:\n",
      "shots_per_circuit 10000 10000\n",
      "[<qiskit.circuit.library.n_local.efficient_su2.EfficientSU2 object at 0x7f7b83c29520>]\n",
      "result Result(backend_name='qasm_simulator', backend_version='0.7.5', qobj_id='4ff60997-bb1b-46c8-ae63-54d4b8038989', job_id='4ffff900-c86b-45a7-92a3-120dede9d9b3', success=True, results=[ExperimentResult(shots=10000, success=True, meas_level=MeasLevel.CLASSIFIED, data=ExperimentResultData(counts={'0x0': 1196, '0x1': 1824, '0x2': 4928, '0x3': 2052}), header=QobjExperimentHeader(clbit_labels=[['c4', 0], ['c4', 1]], creg_sizes=[['c4', 2]], global_phase=0.0, memory_slots=2, n_qubits=2, name='nlocal', qreg_sizes=[['q', 1], ['a', 1]], qubit_labels=[['q', 0], ['a', 0]]), status=DONE, seed_simulator=1725900112, time_taken=0.011480688000000001, metadata={'fusion': {'applied': False, 'enabled': True, 'method': 'unitary', 'threshold': 14}, 'measure_sampling': True, 'method': 'statevector', 'parallel_shots': 1, 'parallel_state_update': 8})], date=2022-07-27T18:03:53.393580, status=COMPLETED, status=QobjHeader(backend_name='qasm_simulator', backend_version='0.7.5'), metadata={'max_memory_mb': 7868, 'omp_enabled': True, 'parallel_experiments': 1, 'time_taken': 0.011749771}, time_taken=0.013305032000062056)\n",
      "k: Z\n",
      "b_prod: 2.999999999999999\n",
      "k: Y\n",
      "b_prod: 7.632783239018605e-16\n",
      "k: X\n",
      "b_prod: -7.51097571916048e-08\n",
      "k: Z\n",
      "b_prod: -1.0000000000000002\n",
      "k: Y\n",
      "b_prod: 3.7470027412775083e-16\n",
      "k: X\n",
      "b_prod: 2.82842712474619\n",
      "k: Z\n",
      "b_prod: -0.9999999999999993\n",
      "k: Y\n",
      "b_prod: 2.4494897644654965\n",
      "k: X\n",
      "b_prod: -1.414213524818216\n",
      "k: Z\n",
      "b_prod: -1.0000000000000002\n",
      "k: Y\n",
      "b_prod: -2.4494897644655\n",
      "k: X\n",
      "b_prod: -1.4142135248182175\n",
      "first_moment: -0.2883426854922607\n",
      "second_moment: 6.540934085367489\n",
      "value -0.2883426854922607 , estimated_error 0.025412187196482323  ,number of circuits 1  ,shots per circuit 10000\n"
     ]
    },
    {
     "data": {
      "text/plain": [
       "{'qubits': 1,\n",
       " 'true': -1.8321133743330758,\n",
       " 'estimate': -0.2883426854922607,\n",
       " 'estimated_error': 0.025412187196482323,\n",
       " 'error': 1.543770688840815,\n",
       " 'circuits': 1,\n",
       " 'shots_per_circuit': 10000,\n",
       " 'shots': 10000,\n",
       " 'time_qc': 0.021814584732055664,\n",
       " 'time_post': 0.004364967346191406,\n",
       " 'method': 'SIC-POVM',\n",
       " 'counts': None,\n",
       " 'povm_params': [0.25, 0.30408672, 0.125, 0.5, 0.5, 0.25, 0.5, 0.75]}"
      ]
     },
     "execution_count": 40,
     "metadata": {},
     "output_type": "execute_result"
    }
   ],
   "source": [
    "num_shots=10000\n",
    "\n",
    "print('shots:', num_shots)\n",
    "\n",
    "#print(result)\n",
    "\n",
    "print('\\n Unoptimized POVM measurement:')\n",
    "for result in estimator.estimate(num_shots):\n",
    "    print('value',result['estimate'],', estimated_error',result['estimated_error'],' ,number of circuits', result['circuits'], ' ,shots per circuit',result['shots_per_circuit'])\n",
    "\n",
    "\n",
    "# print('\\nStandard Pauli measurement:')\n",
    "# for result in p_estimator.estimate(num_shots):\n",
    "#     print('value',result['estimate'],', estimated_error',result['estimated_error'],' ,number of circuits', result['circuits'], ' ,shots per circuit',result['shots_per_circuit'])\n",
    "\n",
    "# print('\\nGrouped Pauli measurement:')\n",
    "# for result in gp_estimator.estimate(num_shots):\n",
    "#     print('value',result['estimate'],', estimated_error',result['estimated_error'],' ,number of circuits', result['circuits'], ' ,shots per circuit',result['shots_per_circuit'])\n",
    "\n",
    "\n",
    "# print('\\n Optimized POVM measurement:')\n",
    "# for result in grad_estimator.estimate(num_shots):\n",
    "    \n",
    "#     print('value',result['estimate'],', estimated_error',result['estimated_error'], 'shots',result['shots_per_circuit'],' ,number of circuits', result['circuits'])\n",
    "\n",
    "\n",
    "# print('\\nexact result',result['true'])\n",
    "result"
   ]
  },
  {
   "cell_type": "code",
   "execution_count": 31,
   "metadata": {},
   "outputs": [
    {
     "data": {
      "text/plain": [
       "[0.25, 0.30408672, 0.125, 0.5, 0.5, 0.25, 0.5, 0.75]"
      ]
     },
     "execution_count": 31,
     "metadata": {},
     "output_type": "execute_result"
    }
   ],
   "source": [
    "result['povm_params'] #0.020"
   ]
  },
  {
   "cell_type": "code",
   "execution_count": 32,
   "metadata": {},
   "outputs": [
    {
     "name": "stdout",
     "output_type": "stream",
     "text": [
      "paulis_dict: {'paulis': [{'label': 'Z', 'coeff': {'real': 1.0, 'imag': 0.0}}, {'label': 'Y', 'coeff': {'real': 1.0, 'imag': 0.0}}, {'label': 'X', 'coeff': {'real': 1.0, 'imag': 0.0}}]}\n",
      "self._k: ['Z', 'Y', 'X']\n",
      "self._c_k: [1.+0.j 1.+0.j 1.+0.j]\n",
      "[7.07106781e-01+0.00000000e+00j 4.32978028e-17+4.32978028e-17j]\n",
      "[0.4082483 +0.00000000e+00j 0.57735026+1.03545091e-17j]\n",
      "[ 0.40824829+0.j  -0.28867514-0.5j]\n",
      "[ 0.40824829+0.j  -0.28867514+0.5j]\n",
      "SIC POVM\n",
      "paulis_dict: {'paulis': [{'label': 'Z', 'coeff': {'real': 1.0, 'imag': 0.0}}, {'label': 'Y', 'coeff': {'real': 1.0, 'imag': 0.0}}, {'label': 'X', 'coeff': {'real': 1.0, 'imag': 0.0}}]}\n",
      "self._k: ['Z', 'Y', 'X']\n",
      "self._c_k: [1.+0.j 1.+0.j 1.+0.j]\n",
      "[7.07106781e-01+0.00000000e+00j 4.32978028e-17+4.32978028e-17j]\n",
      "[0.4082483 +0.00000000e+00j 0.57735026+1.03545091e-17j]\n",
      "[ 0.40824829+0.j  -0.28867514-0.5j]\n",
      "[ 0.40824829+0.j  -0.28867514+0.5j]\n"
     ]
    }
   ],
   "source": [
    "from povm.povm_operator import POVMOperator\n",
    "\n",
    "sic_povm = POVMOperator(qubitOp, povm_params=result['povm_params'])\n",
    "\n",
    "print(sic_povm._unitaries[0][0][0:2])\n",
    "print(sic_povm._unitaries[0][1][0:2])\n",
    "print(sic_povm._unitaries[0][2][0:2])\n",
    "print(sic_povm._unitaries[0][3][0:2])\n",
    "#print(sic_povm._povms[0])\n",
    "\n",
    "print('SIC POVM')\n",
    "\n",
    "sic_povm = POVMOperator(qubitOp, povm_params=_SIC_PARAMS)\n",
    "\n",
    "print(sic_povm._unitaries[0][0][0:2])\n",
    "print(sic_povm._unitaries[0][1][0:2])\n",
    "print(sic_povm._unitaries[0][2][0:2])\n",
    "print(sic_povm._unitaries[0][3][0:2])"
   ]
  },
  {
   "cell_type": "code",
   "execution_count": 33,
   "metadata": {},
   "outputs": [],
   "source": [
    "#test\n",
    "from qiskit.chemistry.transformations import (FermionicTransformation,\n",
    "                                              FermionicTransformationType,\n",
    "                                              FermionicQubitMappingType)\n",
    "\n",
    "fermionic_transformation_JW = FermionicTransformation(\n",
    "            transformation=FermionicTransformationType.FULL,\n",
    "            qubit_mapping=FermionicQubitMappingType.JORDAN_WIGNER,\n",
    "            two_qubit_reduction=False,\n",
    "            freeze_core=True)\n",
    "\n",
    "fermionic_transformation_JKMN = FermionicTransformation(\n",
    "            transformation=FermionicTransformationType.FULL,\n",
    "            qubit_mapping=FermionicQubitMappingType.NEVEN,\n",
    "            two_qubit_reduction=False,\n",
    "            freeze_core=True)\n",
    "\n",
    "from qiskit.chemistry.drivers import PySCFDriver, UnitsType, Molecule\n",
    "molecule = Molecule(geometry=[['H', [0., 0., 0.]],\n",
    "                              ['H', [0., 0., 0.735]]],\n",
    "                     charge=0, multiplicity=1)\n",
    "driver = PySCFDriver(molecule = molecule, unit=UnitsType.ANGSTROM, basis='sto3g')\n"
   ]
  },
  {
   "cell_type": "code",
   "execution_count": 34,
   "metadata": {},
   "outputs": [],
   "source": [
    "from qiskit import BasicAer\n",
    "from qiskit.aqua.algorithms import VQE\n",
    "from qiskit.aqua import QuantumInstance\n",
    "from qiskit.chemistry.algorithms.ground_state_solvers.minimum_eigensolver_factories import VQEUCCSDFactory\n",
    "\n",
    "vqe_solver = VQEUCCSDFactory(QuantumInstance(BasicAer.get_backend('statevector_simulator')))\n",
    "\n",
    "num_qubits = 4\n",
    "tl_circuit = TwoLocal(num_qubits, ['h', 'rx'], 'cz',\n",
    "                      entanglement='full', reps=3, parameter_prefix = 'y')\n",
    "\n",
    "tl_circuit.draw(output = 'mpl')\n",
    "\n",
    "another_solver = VQE(var_form = tl_circuit,\n",
    "                     quantum_instance = QuantumInstance(BasicAer.get_backend('statevector_simulator')))"
   ]
  },
  {
   "cell_type": "code",
   "execution_count": 35,
   "metadata": {},
   "outputs": [
    {
     "name": "stdout",
     "output_type": "stream",
     "text": [
      "=== GROUND STATE ENERGY ===\n",
      " \n",
      "* Electronic ground state energy (Hartree): -1.857274890503\n",
      "  - computed part:      -1.857274890503\n",
      "  - frozen energy part: 0.0\n",
      "  - particle hole part: 0.0\n",
      "~ Nuclear repulsion energy (Hartree): 0.719968994449\n",
      "> Total ground state energy (Hartree): -1.137305896054\n",
      " \n",
      "=== MEASURED OBSERVABLES ===\n",
      " \n",
      "  0:  # Particles: 2.000 S: 0.000 S^2: 0.000 M: 0.000\n",
      " \n",
      "=== DIPOLE MOMENTS ===\n",
      " \n",
      "~ Nuclear dipole moment (a.u.): [0.0  0.0  1.3889487]\n",
      " \n",
      "  0: \n",
      "  * Electronic dipole moment (a.u.): [0.0  0.0  1.38894863]\n",
      "    - computed part:      [0.0  0.0  1.38894863]\n",
      "    - frozen energy part: [0.0  0.0  0.0]\n",
      "    - particle hole part: [0.0  0.0  0.0]\n",
      "  > Dipole moment (a.u.): [0.0  0.0  0.00000007]  Total: 0.00000007\n",
      "                 (debye): [0.0  0.0  0.00000017]  Total: 0.00000017\n",
      " \n",
      "=== GROUND STATE ENERGY ===\n",
      " \n",
      "* Electronic ground state energy (Hartree): -1.55317985607\n",
      "  - computed part:      -1.55317985607\n",
      "  - frozen energy part: 0.0\n",
      "  - particle hole part: 0.0\n",
      "~ Nuclear repulsion energy (Hartree): 0.719968994449\n",
      "> Total ground state energy (Hartree): -0.833210861621\n",
      " \n",
      "=== MEASURED OBSERVABLES ===\n",
      " \n",
      "  0:  # Particles: 1.505 S: 0.291 S^2: 0.375 M: -0.247\n",
      " \n",
      "=== DIPOLE MOMENTS ===\n",
      " \n",
      "~ Nuclear dipole moment (a.u.): [0.0  0.0  1.3889487]\n",
      " \n",
      "  0: \n",
      "  * Electronic dipole moment (a.u.): [0.0  0.0  1.04573481]\n",
      "    - computed part:      [0.0  0.0  1.04573481]\n",
      "    - frozen energy part: [0.0  0.0  0.0]\n",
      "    - particle hole part: [0.0  0.0  0.0]\n",
      "  > Dipole moment (a.u.): [0.0  0.0  0.34321389]  Total: 0.34321389\n",
      "                 (debye): [0.0  0.0  0.87236261]  Total: 0.87236261\n",
      " \n"
     ]
    }
   ],
   "source": [
    "from qiskit.chemistry.algorithms.ground_state_solvers import GroundStateEigensolver\n",
    "\n",
    "calc = GroundStateEigensolver(fermionic_transformation_JW, another_solver)\n",
    "res = calc.solve(driver)\n",
    "\n",
    "print(res)\n",
    "\n",
    "\n",
    "calc = GroundStateEigensolver(fermionic_transformation_JKMN, another_solver)\n",
    "res = calc.solve(driver)\n",
    "\n",
    "print(res)"
   ]
  },
  {
   "cell_type": "markdown",
   "metadata": {},
   "source": [
    "### Extras"
   ]
  },
  {
   "cell_type": "code",
   "execution_count": 36,
   "metadata": {},
   "outputs": [
    {
     "name": "stdout",
     "output_type": "stream",
     "text": [
      "SummedOp([\n",
      "  -0.8105479805373261 * IIII,\n",
      "  0.17218393261915532 * IIIZ,\n",
      "  -0.22575349222402513 * IIZI,\n",
      "  0.17218393261915535 * IZII,\n",
      "  -0.2257534922240251 * ZIII,\n",
      "  0.12091263261776639 * IIZZ,\n",
      "  0.16892753870087923 * IZIZ,\n",
      "  0.04523279994605789 * XXYY,\n",
      "  0.04523279994605789 * YYYY,\n",
      "  0.04523279994605789 * XXXX,\n",
      "  0.04523279994605789 * YYXX,\n",
      "  0.16614543256382427 * ZIIZ,\n",
      "  0.16614543256382427 * IZZI,\n",
      "  0.1746434306830047 * ZIZI,\n",
      "  0.12091263261776639 * ZZII\n",
      "])\n",
      "{'num_particles': [1, 1], 'num_orbitals': 4, 'two_qubit_reduction': False, 'z2_symmetries': <qiskit.aqua.operators.legacy.weighted_pauli_operator.Z2Symmetries object at 0x7f7b6d731eb0>}\n"
     ]
    }
   ],
   "source": [
    "qubit_op, _ = fermionic_transformation_JW.transform(driver)\n",
    "print(qubit_op)\n",
    "print(fermionic_transformation_JW.molecule_info)"
   ]
  },
  {
   "cell_type": "code",
   "execution_count": 37,
   "metadata": {},
   "outputs": [
    {
     "name": "stdout",
     "output_type": "stream",
     "text": [
      "JKMN:\n",
      " SummedOp([\n",
      "  -0.8105479805373261 * IIII,\n",
      "  0.17218393261915532 * IZII,\n",
      "  -0.22575349222402513 * ZZXI,\n",
      "  0.17218393261915535 * IIXI,\n",
      "  -0.2257534922240251 * IIIZ,\n",
      "  0.12091263261776639 * ZIXI,\n",
      "  0.16892753870087923 * IZXI,\n",
      "  -0.04523279994605789 * YXYX,\n",
      "  -0.04523279994605789 * YXZY,\n",
      "  0.04523279994605789 * XXZX,\n",
      "  -0.04523279994605789 * XXYY,\n",
      "  0.16614543256382427 * IZIZ,\n",
      "  0.16614543256382427 * ZZII,\n",
      "  0.1746434306830047 * ZZXZ,\n",
      "  0.12091263261776639 * IIXZ\n",
      "])\n",
      "{'num_particles': [1, 1], 'num_orbitals': 4, 'two_qubit_reduction': False, 'z2_symmetries': <qiskit.aqua.operators.legacy.weighted_pauli_operator.Z2Symmetries object at 0x7f7b6d731eb0>}\n"
     ]
    }
   ],
   "source": [
    "qubit_op, _ = fermionic_transformation_JKMN.transform(driver)\n",
    "print('JKMN:\\n',qubit_op)\n",
    "print(fermionic_transformation_JW.molecule_info)"
   ]
  }
 ],
 "metadata": {
  "kernelspec": {
   "display_name": "Python 3.8.13 ('test-ic-povm')",
   "language": "python",
   "name": "python3"
  },
  "language_info": {
   "codemirror_mode": {
    "name": "ipython",
    "version": 3
   },
   "file_extension": ".py",
   "mimetype": "text/x-python",
   "name": "python",
   "nbconvert_exporter": "python",
   "pygments_lexer": "ipython3",
   "version": "3.8.13"
  },
  "orig_nbformat": 4,
  "vscode": {
   "interpreter": {
    "hash": "f8a87c113933f5c8112c636a159d0d0dd9e4f424d52b6134020c86afa59df6d1"
   }
  }
 },
 "nbformat": 4,
 "nbformat_minor": 2
}
