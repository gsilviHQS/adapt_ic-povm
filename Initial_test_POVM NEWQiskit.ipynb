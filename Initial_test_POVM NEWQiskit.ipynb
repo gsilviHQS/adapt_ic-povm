{
 "cells": [
  {
   "cell_type": "code",
   "execution_count": 14,
   "metadata": {},
   "outputs": [
    {
     "name": "stdout",
     "output_type": "stream",
     "text": [
      "0.21.0\n"
     ]
    },
    {
     "name": "stderr",
     "output_type": "stream",
     "text": [
      "/tmp/ipykernel_86915/2342088407.py:13: DeprecationWarning: The module 'qiskit.test.mock' is deprecated since Qiskit Terra 0.21.0, and will be removed 3 months or more later. Instead, you should import the desired object directly 'qiskit.providers.fake_provider'.\n",
      "  from qiskit.test.mock import FakeMontreal\n"
     ]
    }
   ],
   "source": [
    "import os\n",
    "os.environ[\"TMPDIR\"] = \"/tmp\"  # set the folder for temporary files\n",
    "\n",
    "import numpy as np\n",
    "import qiskit\n",
    "print(qiskit.__version__)\n",
    "from qiskit.opflow import StateFn, PauliExpectation, Zero, One,Z,X,I,Y,PauliOp,ListOp, AerPauliExpectation,DictStateFn,MatrixOp,PrimitiveOp, MatrixExpectation,ComposedOp\n",
    "from qiskit.circuit.library import TwoLocal,EfficientSU2,UGate\n",
    "# from qiskit.opflow.state_fns import CircuitStateFn\n",
    "# from qiskit.opflow.converters import CircuitSampler\n",
    "from qiskit import Aer\n",
    "# from qiskit.utils.quantum_instance import QuantumInstance\n",
    "from qiskit.test.mock import FakeMontreal\n",
    "from qiskit.providers.aer.noise import NoiseModel\n",
    "\n",
    "\n",
    "# from qiskit.chemistry.fermionic_operator import FermionicOperator\n",
    "# from qiskit.providers.aer.library import SaveExpectationValueVariance\n",
    "\n",
    "# from qiskit.algorithms.optimizers import COBYLA\n",
    "# from qiskit.algorithms import VQE\n",
    "# from qiskit_nature.converters.second_quantization import QubitConverter\n",
    "# from qiskit_nature.mappers.second_quantization import JordanWignerMapper\n",
    "from qiskit.quantum_info.operators import Operator\n",
    "from qiskit.circuit import Parameter\n",
    "# from qiskit.providers.aer import AerSimulator,QasmSimulator\n",
    "# from qiskit.aqua.operators.legacy import WeightedPauliOperator\n",
    "from qiskit.quantum_info import Pauli\n",
    "\n",
    "from random import random,seed\n",
    "from math import pi\n",
    "import matplotlib.pyplot as plt\n",
    "plt.rcParams.update({'font.size': 18})\n",
    "\n",
    "from scipy.optimize import curve_fit\n",
    "import pickle\n",
    "# #my functions\n",
    "# import ESfunctions\n",
    "# import EnhancedSampling\n",
    "\n",
    "\n",
    "def is_unitary(m):\n",
    "    return np.allclose(np.eye(m.shape[0]), m.H * m)"
   ]
  },
  {
   "cell_type": "code",
   "execution_count": null,
   "metadata": {},
   "outputs": [],
   "source": []
  },
  {
   "cell_type": "code",
   "execution_count": 32,
   "metadata": {},
   "outputs": [
    {
     "name": "stdout",
     "output_type": "stream",
     "text": [
      "Operator to be measured SummedOp([\n",
      "  Z,\n",
      "  Y,\n",
      "  X\n",
      "]) <class 'qiskit.opflow.list_ops.summed_op.SummedOp'>\n"
     ]
    },
    {
     "name": "stderr",
     "output_type": "stream",
     "text": [
      "/tmp/ipykernel_86915/3481345229.py:6: DeprecationWarning: Passing 'z' and 'x' arrays separately to 'Pauli' is deprecated as of Qiskit Terra 0.17 and will be removed in version 0.23 or later. Use a tuple instead, such as 'Pauli((z, x[, phase]))'.\n",
      "  PauliH =SummedOp([PauliOp(Pauli(z=[True], x=[False]), coeff=1.0), PauliOp(Pauli(z=[True], x=[True]), coeff=1.0), PauliOp(Pauli(z=[False], x=[True]), coeff=1.0)], coeff=1.0, abelian=False)\n"
     ]
    }
   ],
   "source": [
    "from qiskit.opflow import SummedOp\n",
    "#Backend and Quantum instance\n",
    "backend=Aer.get_backend('statevector_simulator')\n",
    "\n",
    "#Hamiltonian\n",
    "PauliH =SummedOp([PauliOp(Pauli(z=[True], x=[False]), coeff=1.0), PauliOp(Pauli(z=[True], x=[True]), coeff=1.0), PauliOp(Pauli(z=[False], x=[True]), coeff=1.0)], coeff=1.0, abelian=False)\n",
    "\n",
    "#PauliH = WeightedPauliOperator([[1., Pauli(label ='Z')]])\n",
    "\n",
    "print('Operator to be measured',PauliH, type(PauliH))"
   ]
  },
  {
   "cell_type": "code",
   "execution_count": 33,
   "metadata": {},
   "outputs": [
    {
     "name": "stdout",
     "output_type": "stream",
     "text": [
      " Random angles assigned to ansatz {ParameterVectorElement(θ[0]): 2.9091610277393842, ParameterVectorElement(θ[1]): 2.345588042336162, ParameterVectorElement(θ[2]): 0.8704688011761168, ParameterVectorElement(θ[3]): 5.444768683596541}\n"
     ]
    },
    {
     "data": {
      "image/png": "[encoded data removed]",
      "text/plain": [
       "<Figure size 615.126x84.28 with 1 Axes>"
      ]
     },
     "execution_count": 33,
     "metadata": {},
     "output_type": "execute_result"
    }
   ],
   "source": [
    "seed(9) #44 ok #494 wtf?\n",
    "# Ansatz creation\n",
    "# Define global variables\n",
    "num_qubit = PauliH.num_qubits\n",
    "ansz = EfficientSU2(num_qubit,['ry','rz'],reps=1)\n",
    "angles_set = {}\n",
    "param = ansz.ordered_parameters\n",
    "for j in range(len(param)):\n",
    "    angles_set[param[j]]= random()*2*pi\n",
    "ansz_assigned = ansz.bind_parameters(angles_set)\n",
    "\n",
    "print(' Random angles assigned to ansatz',angles_set)\n",
    "ansz_assigned.decompose().draw(output='mpl',filename='EfficientSU2')\n"
   ]
  },
  {
   "cell_type": "code",
   "execution_count": 34,
   "metadata": {},
   "outputs": [],
   "source": [
    "# from qiskit import execute\n",
    "# result = execute(\n",
    "#     self.circs,\n",
    "#     backend=Aer.get_backend(\"qasm_simulator\"),\n",
    "#     shots=num_shots,\n",
    "# ).result()\n",
    "\n",
    "# \n",
    "# print( 'Exact',exact_energy)\n",
    "\n",
    "# exact_energy= 0\n"
   ]
  },
  {
   "cell_type": "code",
   "execution_count": 35,
   "metadata": {},
   "outputs": [
    {
     "name": "stdout",
     "output_type": "stream",
     "text": [
      "exact value -1.8321133743330758\n",
      "Qubit Op: SummedOp([\n",
      "  Z,\n",
      "  Y,\n",
      "  X\n",
      "])\n"
     ]
    }
   ],
   "source": [
    "data = pickle.load(open('data/hamiltonians_no_operator.pickle', \"rb\"))\n",
    "\n",
    "h = data[3]\n",
    "\n",
    "# qubitOp = h[\"operator\"]\n",
    "\n",
    "use_exact= False\n",
    "\n",
    "if use_exact:\n",
    "    # qc = h[\"exact_circuit\"]\n",
    "    exact = h[\"exact_value\"]\n",
    "else:\n",
    "    # qc = h[\"vqe_circuit\"]\n",
    "    exact = h[\"vqe_value\"]\n",
    "\n",
    "\n",
    "print('exact value', exact)\n",
    "# print('Circuit',qc)\n",
    "\n",
    "\n",
    "if True:\n",
    "    qc = ansz_assigned\n",
    "    qubitOp = PauliH\n",
    "\n",
    "print('Qubit Op:', qubitOp)"
   ]
  },
  {
   "cell_type": "code",
   "execution_count": 36,
   "metadata": {},
   "outputs": [],
   "source": [
    "# # ###save data without 'operator'\n",
    "# data_no_operator = data.copy()\n",
    "# for elem in data_no_operator:\n",
    "#     elem.pop('operator')\n",
    "#     elem.pop('exact_circuit')\n",
    "#     elem.pop('vqe_circuit')\n",
    "# print(data)\n",
    "# # save data_no_operator to pickle\n",
    "# pickle.dump(data_no_operator, open(\"data/hamiltonians_no_operator.pickle\", \"wb\"))\n"
   ]
  },
  {
   "cell_type": "code",
   "execution_count": 37,
   "metadata": {},
   "outputs": [],
   "source": [
    "# from qiskit.circuit.library import NLocal\n",
    "# from qiskit.quantum_info import SparsePauliOp\n",
    "\n",
    "# qc = NLocal(num_qubits=num_qubit, reps=1)\n",
    "# print(qubitOp)"
   ]
  },
  {
   "cell_type": "code",
   "execution_count": 38,
   "metadata": {},
   "outputs": [
    {
     "name": "stdout",
     "output_type": "stream",
     "text": [
      "Initializing POVMOperator\n",
      "Here\n",
      "self._k: ['Z', 'Y', 'X']\n",
      "self._c_k: [1.+0.j 1.+0.j 1.+0.j]\n"
     ]
    }
   ],
   "source": [
    "import logging\n",
    "from povm.estimator_updated import POVMEstimator,GradPOVMEstimator,GooglePOVMEstimator,PauliEstimator, GroupedPauliEstimator, GoogleGradPOVMEstimator\n",
    "\n",
    "# logging.basicConfig(level=logging.DEBUG)\n",
    "\n",
    "povm_optimal_params =[]\n",
    "\n",
    " \n",
    "\n",
    "povm_test_params = np.array([0.25, 0.30408672, 0, 0.5, 0.5, 0.25, 0.5, 1])\n",
    "\n",
    "_SIC_PARAMS = np.array([0.25, 0.30408672, 0.125, 0.5, 0.5, 0.25, 0.5, 0.75])\n",
    "\n",
    "\n",
    "estimator = POVMEstimator(qc, qubitOp, exact, return_counts=False)#, povm_params=povm_test_params ) #povm_optimal_params\n",
    "# p_estimator = PauliEstimator(qc, qubitOp, exact, return_counts=False)\n",
    "# gp_estimator = GroupedPauliEstimator(qc, qubitOp, exact, return_counts=False)\n",
    "\n",
    "# #estimator = GoogleGradPOVMEstimator(qc, qubitOp, exact, return_counts=False)\n",
    "# grad_estimator = GradPOVMEstimator(qc, qubitOp, exact, return_counts=False)#, povm_params=povm_optimal_params)"
   ]
  },
  {
   "cell_type": "code",
   "execution_count": 50,
   "metadata": {},
   "outputs": [
    {
     "name": "stdout",
     "output_type": "stream",
     "text": [
      "shots: 10000\n",
      "\n",
      " Unoptimized POVM measurement:\n",
      "shots_per_circuit 10000 10000\n",
      "[<qiskit.circuit.library.n_local.efficient_su2.EfficientSU2 object at 0x7f35557e95b0>]\n",
      "result Result(backend_name='qasm_simulator', backend_version='0.10.4', qobj_id='57eccd0e-dfb4-49b1-ba8e-51eb0eb926cf', job_id='54ef359c-5a88-4988-aef7-d86a69931ab8', success=True, results=[ExperimentResult(shots=10000, success=True, meas_level=2, data=ExperimentResultData(counts={'0x1': 1874, '0x0': 1260, '0x2': 4880, '0x3': 1986}), header=QobjExperimentHeader(clbit_labels=[['c2', 0], ['c2', 1]], creg_sizes=[['c2', 2]], global_phase=1.7434385931506209, memory_slots=2, metadata={}, n_qubits=2, name='EfficientSU2-94', qreg_sizes=[['q', 1], ['a', 1]], qubit_labels=[['q', 0], ['a', 0]]), status=DONE, seed_simulator=1906263837, metadata={'parallel_state_update': 8, 'noise': 'ideal', 'batched_shots_optimization': False, 'measure_sampling': True, 'device': 'CPU', 'num_qubits': 2, 'parallel_shots': 1, 'remapped_qubits': False, 'method': 'statevector', 'active_input_qubits': [0, 1], 'num_clbits': 2, 'input_qubit_map': [[1, 1], [0, 0]], 'fusion': {'applied': False, 'max_fused_qubits': 5, 'enabled': True, 'threshold': 14}}, time_taken=0.013166771)], date=2022-07-27T18:03:35.318851, status=COMPLETED, header=QobjHeader(backend_name='qasm_simulator', backend_version='0.10.4'), metadata={'time_taken': 0.013513638, 'time_taken_execute': 0.013255773, 'parallel_experiments': 1, 'omp_enabled': True, 'max_gpu_memory_mb': 0, 'num_mpi_processes': 1, 'time_taken_load_qobj': 0.000245939, 'max_memory_mb': 15737, 'mpi_rank': 0}, time_taken=0.013788700103759766)\n",
      "k: Z\n",
      "b_prod: -1.0000000000000007\n",
      "k: Y\n",
      "b_prod: 4.723651634620308e-17\n",
      "k: X\n",
      "b_prod: 2.828427124746191\n",
      "k: Z\n",
      "b_prod: 2.999999999999999\n",
      "k: Y\n",
      "b_prod: 4.456996667428392e-16\n",
      "k: X\n",
      "b_prod: -7.510975720248936e-08\n",
      "k: Z\n",
      "b_prod: -0.9999999999999994\n",
      "k: Y\n",
      "b_prod: 2.4494897644654974\n",
      "k: X\n",
      "b_prod: -1.4142135248182175\n",
      "k: Z\n",
      "b_prod: -1.0000000000000002\n",
      "k: Y\n",
      "b_prod: -2.4494897644655\n",
      "k: X\n",
      "b_prod: -1.4142135248182173\n",
      "first_moment: -0.2280694345902668\n",
      "second_moment: 6.459116814124162\n",
      "value -0.2280694345902668 , estimated_error 0.02531225226472318  ,number of circuits 1  ,shots per circuit 10000\n",
      "\n",
      "exact result -1.8321133743330758\n"
     ]
    }
   ],
   "source": [
    "num_shots=10000\n",
    "\n",
    "print('shots:', num_shots)\n",
    "\n",
    "#print(result)\n",
    "\n",
    "print('\\n Unoptimized POVM measurement:')\n",
    "for result in estimator.estimate(num_shots):\n",
    "    print('value',result['estimate'],', estimated_error',result['estimated_error'],' ,number of circuits', result['circuits'], ' ,shots per circuit',result['shots_per_circuit'])\n",
    "\n",
    "\n",
    "# print('\\nStandard Pauli measurement:')\n",
    "# for result in p_estimator.estimate(num_shots):\n",
    "#     print('value',result['estimate'],', estimated_error',result['estimated_error'],' ,number of circuits', result['circuits'], ' ,shots per circuit',result['shots_per_circuit'])\n",
    "\n",
    "# print('\\nGrouped Pauli measurement:')\n",
    "# for result in gp_estimator.estimate(num_shots):\n",
    "#     print('value',result['estimate'],', estimated_error',result['estimated_error'],' ,number of circuits', result['circuits'], ' ,shots per circuit',result['shots_per_circuit'])\n",
    "\n",
    "\n",
    "# print('\\n Optimized POVM measurement:')\n",
    "# for result in grad_estimator.estimate(num_shots):\n",
    "    \n",
    "#     print('value',result['estimate'],', estimated_error',result['estimated_error'], 'shots',result['shots_per_circuit'],' ,number of circuits', result['circuits'])\n",
    "\n",
    "\n",
    "print('\\nexact result',result['true'])"
   ]
  },
  {
   "cell_type": "code",
   "execution_count": 40,
   "metadata": {},
   "outputs": [
    {
     "data": {
      "text/plain": [
       "{'qubits': 1,\n",
       " 'true': -1.8321133743330758,\n",
       " 'estimate': -0.22329209183258772,\n",
       " 'estimated_error': 0.025207406752755308,\n",
       " 'error': 1.608821282500488,\n",
       " 'circuits': 1,\n",
       " 'shots_per_circuit': 10000,\n",
       " 'shots': 10000,\n",
       " 'time_qc': 0.04497361183166504,\n",
       " 'time_post': 0.0010194778442382812,\n",
       " 'method': 'SIC-POVM',\n",
       " 'counts': None,\n",
       " 'povm_params': [0.25, 0.30408672, 0.125, 0.5, 0.5, 0.25, 0.5, 0.75]}"
      ]
     },
     "execution_count": 40,
     "metadata": {},
     "output_type": "execute_result"
    }
   ],
   "source": [
    "result"
   ]
  },
  {
   "cell_type": "code",
   "execution_count": 41,
   "metadata": {},
   "outputs": [
    {
     "ename": "ImportError",
     "evalue": "cannot import name 'BaseBackend' from 'qiskit.providers' (/home/gsilvi/miniforge3/envs/latestQiskit/lib/python3.9/site-packages/qiskit/providers/__init__.py)",
     "output_type": "error",
     "traceback": [
      "\u001b[0;31m---------------------------------------------------------------------------\u001b[0m",
      "\u001b[0;31mImportError\u001b[0m                               Traceback (most recent call last)",
      "\u001b[0;32m/tmp/ipykernel_86915/1158096002.py\u001b[0m in \u001b[0;36m<module>\u001b[0;34m\u001b[0m\n\u001b[0;32m----> 1\u001b[0;31m \u001b[0;32mfrom\u001b[0m \u001b[0mpovm\u001b[0m\u001b[0;34m.\u001b[0m\u001b[0mpovm_operator\u001b[0m \u001b[0;32mimport\u001b[0m \u001b[0mPOVMOperator\u001b[0m\u001b[0;34m\u001b[0m\u001b[0;34m\u001b[0m\u001b[0m\n\u001b[0m\u001b[1;32m      2\u001b[0m \u001b[0;34m\u001b[0m\u001b[0m\n\u001b[1;32m      3\u001b[0m \u001b[0msic_povm\u001b[0m \u001b[0;34m=\u001b[0m \u001b[0mPOVMOperator\u001b[0m\u001b[0;34m(\u001b[0m\u001b[0mqubitOp\u001b[0m\u001b[0;34m,\u001b[0m \u001b[0mpovm_params\u001b[0m\u001b[0;34m=\u001b[0m\u001b[0mresult\u001b[0m\u001b[0;34m[\u001b[0m\u001b[0;34m'povm_params'\u001b[0m\u001b[0;34m]\u001b[0m\u001b[0;34m)\u001b[0m\u001b[0;34m\u001b[0m\u001b[0;34m\u001b[0m\u001b[0m\n\u001b[1;32m      4\u001b[0m \u001b[0;34m\u001b[0m\u001b[0m\n\u001b[1;32m      5\u001b[0m \u001b[0mprint\u001b[0m\u001b[0;34m(\u001b[0m\u001b[0msic_povm\u001b[0m\u001b[0;34m.\u001b[0m\u001b[0m_unitaries\u001b[0m\u001b[0;34m[\u001b[0m\u001b[0;36m0\u001b[0m\u001b[0;34m]\u001b[0m\u001b[0;34m[\u001b[0m\u001b[0;36m0\u001b[0m\u001b[0;34m]\u001b[0m\u001b[0;34m[\u001b[0m\u001b[0;36m0\u001b[0m\u001b[0;34m:\u001b[0m\u001b[0;36m2\u001b[0m\u001b[0;34m]\u001b[0m\u001b[0;34m)\u001b[0m\u001b[0;34m\u001b[0m\u001b[0;34m\u001b[0m\u001b[0m\n",
      "\u001b[0;32m~/Projects/adapt_ic-povm/povm/povm_operator.py\u001b[0m in \u001b[0;36m<module>\u001b[0;34m\u001b[0m\n\u001b[1;32m      7\u001b[0m \u001b[0;32mfrom\u001b[0m \u001b[0mqiskit\u001b[0m\u001b[0;34m.\u001b[0m\u001b[0mquantum_info\u001b[0m \u001b[0;32mimport\u001b[0m \u001b[0mPauli\u001b[0m\u001b[0;34m\u001b[0m\u001b[0;34m\u001b[0m\u001b[0m\n\u001b[1;32m      8\u001b[0m \u001b[0;32mfrom\u001b[0m \u001b[0mqiskit\u001b[0m \u001b[0;32mimport\u001b[0m \u001b[0mQuantumRegister\u001b[0m\u001b[0;34m,\u001b[0m \u001b[0mClassicalRegister\u001b[0m\u001b[0;34m\u001b[0m\u001b[0;34m\u001b[0m\u001b[0m\n\u001b[0;32m----> 9\u001b[0;31m \u001b[0;32mfrom\u001b[0m \u001b[0mqiskit\u001b[0m\u001b[0;34m.\u001b[0m\u001b[0maqua\u001b[0m\u001b[0;34m.\u001b[0m\u001b[0moperators\u001b[0m\u001b[0;34m.\u001b[0m\u001b[0mlegacy\u001b[0m \u001b[0;32mimport\u001b[0m \u001b[0mWeightedPauliOperator\u001b[0m\u001b[0;34m\u001b[0m\u001b[0;34m\u001b[0m\u001b[0m\n\u001b[0m\u001b[1;32m     10\u001b[0m \u001b[0;32mfrom\u001b[0m \u001b[0mqiskit\u001b[0m\u001b[0;34m.\u001b[0m\u001b[0maqua\u001b[0m \u001b[0;32mimport\u001b[0m \u001b[0mAquaError\u001b[0m\u001b[0;34m\u001b[0m\u001b[0;34m\u001b[0m\u001b[0m\n\u001b[1;32m     11\u001b[0m \u001b[0;34m\u001b[0m\u001b[0m\n",
      "\u001b[0;32m~/miniforge3/envs/latestQiskit/lib/python3.9/site-packages/qiskit/aqua/__init__.py\u001b[0m in \u001b[0;36m<module>\u001b[0;34m\u001b[0m\n\u001b[1;32m     74\u001b[0m \u001b[0;32mfrom\u001b[0m \u001b[0;34m.\u001b[0m\u001b[0mmissing_optional_library_error\u001b[0m \u001b[0;32mimport\u001b[0m \u001b[0mMissingOptionalLibraryError\u001b[0m\u001b[0;34m\u001b[0m\u001b[0;34m\u001b[0m\u001b[0m\n\u001b[1;32m     75\u001b[0m \u001b[0;32mfrom\u001b[0m \u001b[0;34m.\u001b[0m\u001b[0maqua_globals\u001b[0m \u001b[0;32mimport\u001b[0m \u001b[0maqua_globals\u001b[0m\u001b[0;34m\u001b[0m\u001b[0;34m\u001b[0m\u001b[0m\n\u001b[0;32m---> 76\u001b[0;31m \u001b[0;32mfrom\u001b[0m \u001b[0;34m.\u001b[0m\u001b[0mquantum_instance\u001b[0m \u001b[0;32mimport\u001b[0m \u001b[0mQuantumInstance\u001b[0m\u001b[0;34m\u001b[0m\u001b[0;34m\u001b[0m\u001b[0m\n\u001b[0m\u001b[1;32m     77\u001b[0m \u001b[0;32mfrom\u001b[0m \u001b[0;34m.\u001b[0m\u001b[0malgorithms\u001b[0m \u001b[0;32mimport\u001b[0m \u001b[0mQuantumAlgorithm\u001b[0m\u001b[0;34m\u001b[0m\u001b[0;34m\u001b[0m\u001b[0m\n\u001b[1;32m     78\u001b[0m from ._logging import (QiskitLogDomains,\n",
      "\u001b[0;32m~/miniforge3/envs/latestQiskit/lib/python3.9/site-packages/qiskit/aqua/quantum_instance.py\u001b[0m in \u001b[0;36m<module>\u001b[0;34m\u001b[0m\n\u001b[1;32m     19\u001b[0m \u001b[0;32mimport\u001b[0m \u001b[0mnumpy\u001b[0m \u001b[0;32mas\u001b[0m \u001b[0mnp\u001b[0m\u001b[0;34m\u001b[0m\u001b[0;34m\u001b[0m\u001b[0m\n\u001b[1;32m     20\u001b[0m \u001b[0;34m\u001b[0m\u001b[0m\n\u001b[0;32m---> 21\u001b[0;31m \u001b[0;32mfrom\u001b[0m \u001b[0mqiskit\u001b[0m\u001b[0;34m.\u001b[0m\u001b[0mproviders\u001b[0m \u001b[0;32mimport\u001b[0m \u001b[0mBackend\u001b[0m\u001b[0;34m,\u001b[0m \u001b[0mBaseBackend\u001b[0m\u001b[0;34m\u001b[0m\u001b[0;34m\u001b[0m\u001b[0m\n\u001b[0m\u001b[1;32m     22\u001b[0m \u001b[0;32mfrom\u001b[0m \u001b[0mqiskit\u001b[0m\u001b[0;34m.\u001b[0m\u001b[0mtranspiler\u001b[0m \u001b[0;32mimport\u001b[0m \u001b[0mCouplingMap\u001b[0m\u001b[0;34m,\u001b[0m \u001b[0mPassManager\u001b[0m\u001b[0;34m\u001b[0m\u001b[0;34m\u001b[0m\u001b[0m\n\u001b[1;32m     23\u001b[0m \u001b[0;32mfrom\u001b[0m \u001b[0mqiskit\u001b[0m\u001b[0;34m.\u001b[0m\u001b[0mtranspiler\u001b[0m\u001b[0;34m.\u001b[0m\u001b[0mlayout\u001b[0m \u001b[0;32mimport\u001b[0m \u001b[0mLayout\u001b[0m\u001b[0;34m\u001b[0m\u001b[0;34m\u001b[0m\u001b[0m\n",
      "\u001b[0;31mImportError\u001b[0m: cannot import name 'BaseBackend' from 'qiskit.providers' (/home/gsilvi/miniforge3/envs/latestQiskit/lib/python3.9/site-packages/qiskit/providers/__init__.py)"
     ]
    }
   ],
   "source": [
    "from povm.povm_operator import POVMOperator\n",
    "\n",
    "sic_povm = POVMOperator(qubitOp, povm_params=result['povm_params'])\n",
    "\n",
    "print(sic_povm._unitaries[0][0][0:2])\n",
    "print(sic_povm._unitaries[0][1][0:2])\n",
    "print(sic_povm._unitaries[0][2][0:2])\n",
    "print(sic_povm._unitaries[0][3][0:2])\n",
    "#print(sic_povm._povms[0])\n",
    "\n",
    "print('SIC POVM')\n",
    "\n",
    "sic_povm = POVMOperator(qubitOp, povm_params=_SIC_PARAMS)\n",
    "\n",
    "print(sic_povm._unitaries[0][0][0:2])\n",
    "print(sic_povm._unitaries[0][1][0:2])\n",
    "print(sic_povm._unitaries[0][2][0:2])\n",
    "print(sic_povm._unitaries[0][3][0:2])"
   ]
  },
  {
   "cell_type": "code",
   "execution_count": null,
   "metadata": {},
   "outputs": [],
   "source": [
    "#test\n",
    "from qiskit.chemistry.transformations import (FermionicTransformation,\n",
    "                                              FermionicTransformationType,\n",
    "                                              FermionicQubitMappingType)\n",
    "\n",
    "fermionic_transformation_JW = FermionicTransformation(\n",
    "            transformation=FermionicTransformationType.FULL,\n",
    "            qubit_mapping=FermionicQubitMappingType.JORDAN_WIGNER,\n",
    "            two_qubit_reduction=False,\n",
    "            freeze_core=True)\n",
    "\n",
    "fermionic_transformation_JKMN = FermionicTransformation(\n",
    "            transformation=FermionicTransformationType.FULL,\n",
    "            qubit_mapping=FermionicQubitMappingType.NEVEN,\n",
    "            two_qubit_reduction=False,\n",
    "            freeze_core=True)\n",
    "\n",
    "from qiskit.chemistry.drivers import PySCFDriver, UnitsType, Molecule\n",
    "molecule = Molecule(geometry=[['H', [0., 0., 0.]],\n",
    "                              ['H', [0., 0., 0.735]]],\n",
    "                     charge=0, multiplicity=1)\n",
    "driver = PySCFDriver(molecule = molecule, unit=UnitsType.ANGSTROM, basis='sto3g')\n"
   ]
  },
  {
   "cell_type": "code",
   "execution_count": null,
   "metadata": {},
   "outputs": [],
   "source": [
    "from qiskit import BasicAer\n",
    "from qiskit.aqua.algorithms import VQE\n",
    "from qiskit.aqua import QuantumInstance\n",
    "from qiskit.chemistry.algorithms.ground_state_solvers.minimum_eigensolver_factories import VQEUCCSDFactory\n",
    "\n",
    "vqe_solver = VQEUCCSDFactory(QuantumInstance(BasicAer.get_backend('statevector_simulator')))\n",
    "\n",
    "num_qubits = 4\n",
    "tl_circuit = TwoLocal(num_qubits, ['h', 'rx'], 'cz',\n",
    "                      entanglement='full', reps=3, parameter_prefix = 'y')\n",
    "\n",
    "tl_circuit.draw(output = 'mpl')\n",
    "\n",
    "another_solver = VQE(var_form = tl_circuit,\n",
    "                     quantum_instance = QuantumInstance(BasicAer.get_backend('statevector_simulator')))"
   ]
  },
  {
   "cell_type": "code",
   "execution_count": null,
   "metadata": {},
   "outputs": [
    {
     "name": "stdout",
     "output_type": "stream",
     "text": [
      "=== GROUND STATE ENERGY ===\n",
      " \n",
      "* Electronic ground state energy (Hartree): -1.85727497932\n",
      "  - computed part:      -1.85727497932\n",
      "  - frozen energy part: 0.0\n",
      "  - particle hole part: 0.0\n",
      "~ Nuclear repulsion energy (Hartree): 0.719968994449\n",
      "> Total ground state energy (Hartree): -1.137305984871\n",
      " \n",
      "=== MEASURED OBSERVABLES ===\n",
      " \n",
      "  0:  # Particles: 2.000 S: 0.000 S^2: 0.000 M: 0.000\n",
      " \n",
      "=== DIPOLE MOMENTS ===\n",
      " \n",
      "~ Nuclear dipole moment (a.u.): [0.0  0.0  1.3889487]\n",
      " \n",
      "  0: \n",
      "  * Electronic dipole moment (a.u.): [0.0  0.0  1.38894867]\n",
      "    - computed part:      [0.0  0.0  1.38894867]\n",
      "    - frozen energy part: [0.0  0.0  0.0]\n",
      "    - particle hole part: [0.0  0.0  0.0]\n",
      "  > Dipole moment (a.u.): [0.0  0.0  0.00000003]  Total: 0.00000003\n",
      "                 (debye): [0.0  0.0  0.00000007]  Total: 0.00000007\n",
      " \n",
      "=== GROUND STATE ENERGY ===\n",
      " \n",
      "* Electronic ground state energy (Hartree): -1.857274599627\n",
      "  - computed part:      -1.857274599627\n",
      "  - frozen energy part: 0.0\n",
      "  - particle hole part: 0.0\n",
      "~ Nuclear repulsion energy (Hartree): 0.719968994449\n",
      "> Total ground state energy (Hartree): -1.137305605178\n",
      " \n",
      "=== MEASURED OBSERVABLES ===\n",
      " \n",
      "  0:  # Particles: 2.000 S: 0.000 S^2: 0.000 M: -0.000\n",
      " \n",
      "=== DIPOLE MOMENTS ===\n",
      " \n",
      "~ Nuclear dipole moment (a.u.): [0.0  0.0  1.3889487]\n",
      " \n",
      "  0: \n",
      "  * Electronic dipole moment (a.u.): [0.0  0.0  1.38903107]\n",
      "    - computed part:      [0.0  0.0  1.38903107]\n",
      "    - frozen energy part: [0.0  0.0  0.0]\n",
      "    - particle hole part: [0.0  0.0  0.0]\n",
      "  > Dipole moment (a.u.): [0.0  0.0  -0.00008237]  Total: 0.00008237\n",
      "                 (debye): [0.0  0.0  -0.00020937]  Total: 0.00020937\n",
      " \n"
     ]
    }
   ],
   "source": [
    "from qiskit.chemistry.algorithms.ground_state_solvers import GroundStateEigensolver\n",
    "\n",
    "calc = GroundStateEigensolver(fermionic_transformation_JW, another_solver)\n",
    "res = calc.solve(driver)\n",
    "\n",
    "print(res)\n",
    "\n",
    "\n",
    "calc = GroundStateEigensolver(fermionic_transformation_JKMN, another_solver)\n",
    "res = calc.solve(driver)\n",
    "\n",
    "print(res)"
   ]
  },
  {
   "cell_type": "markdown",
   "metadata": {},
   "source": [
    "### Extras"
   ]
  },
  {
   "cell_type": "code",
   "execution_count": null,
   "metadata": {},
   "outputs": [
    {
     "name": "stdout",
     "output_type": "stream",
     "text": [
      "SummedOp([\n",
      "  -0.8105479805373261 * IIII,\n",
      "  0.17218393261915532 * IIIZ,\n",
      "  -0.22575349222402513 * IIZI,\n",
      "  0.17218393261915535 * IZII,\n",
      "  -0.2257534922240251 * ZIII,\n",
      "  0.12091263261776639 * IIZZ,\n",
      "  0.16892753870087923 * IZIZ,\n",
      "  0.04523279994605789 * XXYY,\n",
      "  0.04523279994605789 * YYYY,\n",
      "  0.04523279994605789 * XXXX,\n",
      "  0.04523279994605789 * YYXX,\n",
      "  0.16614543256382427 * ZIIZ,\n",
      "  0.16614543256382427 * IZZI,\n",
      "  0.1746434306830047 * ZIZI,\n",
      "  0.12091263261776639 * ZZII\n",
      "])\n",
      "{'num_particles': [1, 1], 'num_orbitals': 4, 'two_qubit_reduction': False, 'z2_symmetries': <qiskit.aqua.operators.legacy.weighted_pauli_operator.Z2Symmetries object at 0x7fd044c24340>}\n"
     ]
    }
   ],
   "source": [
    "qubit_op, _ = fermionic_transformation_JW.transform(driver)\n",
    "print(qubit_op)\n",
    "print(fermionic_transformation_JW.molecule_info)"
   ]
  },
  {
   "cell_type": "code",
   "execution_count": null,
   "metadata": {},
   "outputs": [
    {
     "name": "stdout",
     "output_type": "stream",
     "text": [
      "JKMN:\n",
      " SummedOp([\n",
      "  -0.8105479805373261 * IIII,\n",
      "  0.17218393261915532 * IZII,\n",
      "  -0.22575349222402513 * ZZXI,\n",
      "  0.17218393261915535 * IIXI,\n",
      "  -0.2257534922240251 * IIIZ,\n",
      "  0.12091263261776639 * ZIXI,\n",
      "  0.16892753870087923 * IZXI,\n",
      "  -0.04523279994605789 * YXYX,\n",
      "  -0.04523279994605789 * YXZY,\n",
      "  0.04523279994605789 * XXZX,\n",
      "  -0.04523279994605789 * XXYY,\n",
      "  0.16614543256382427 * IZIZ,\n",
      "  0.16614543256382427 * ZZII,\n",
      "  0.1746434306830047 * ZZXZ,\n",
      "  0.12091263261776639 * IIXZ\n",
      "])\n",
      "{'num_particles': [1, 1], 'num_orbitals': 4, 'two_qubit_reduction': False, 'z2_symmetries': <qiskit.aqua.operators.legacy.weighted_pauli_operator.Z2Symmetries object at 0x7fd044c24340>}\n"
     ]
    }
   ],
   "source": [
    "qubit_op, _ = fermionic_transformation_JKMN.transform(driver)\n",
    "print('JKMN:\\n',qubit_op)\n",
    "print(fermionic_transformation_JW.molecule_info)"
   ]
  }
 ],
 "metadata": {
  "kernelspec": {
   "display_name": "Python 3.9.7 ('latestQiskit')",
   "language": "python",
   "name": "python3"
  },
  "language_info": {
   "codemirror_mode": {
    "name": "ipython",
    "version": 3
   },
   "file_extension": ".py",
   "mimetype": "text/x-python",
   "name": "python",
   "nbconvert_exporter": "python",
   "pygments_lexer": "ipython3",
   "version": "3.9.7"
  },
  "orig_nbformat": 4,
  "vscode": {
   "interpreter": {
    "hash": "ca9345d8176615862813982eb2340ecc22b0ecac3694b1d82a1d88ee588e6c73"
   }
  }
 },
 "nbformat": 4,
 "nbformat_minor": 2
}
